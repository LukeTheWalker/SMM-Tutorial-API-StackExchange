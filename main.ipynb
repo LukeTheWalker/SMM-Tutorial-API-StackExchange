{
 "cells": [
  {
   "cell_type": "markdown",
   "metadata": {},
   "source": [
    "# Tutorial sulle API di StackExchange\n",
    "\n",
    "**Nome**: *Luca Venerando*\n",
    "\n",
    "**Cognome**: *Greco*\n",
    "\n",
    "**Matricola**: *1000016165*\n",
    "\n",
    "**Corso**: Social Media Management\n",
    "\n",
    "**Docente**: Antonino Furnari\n",
    "\n",
    "**Anno Accademico**: *2022/2023*"
   ]
  },
  {
   "cell_type": "markdown",
   "metadata": {},
   "source": [
    "## Introduzione\n",
    "StackOverflow è un sito di domande e risposte per programmatori. È la community online più grande e affidabile per gli sviluppatori per cercare, apprendere e condividere le proprie conoscenze e per costruire la propria carriera.\n",
    "\n",
    "StackOverflow è stata fondato nel 2008 da Jeff Atwood e Joel Spolsky. Il sito è stato creato come progetto collaterale per aiutare i programmatori a trovare soluzioni ai problemi che stavano riscontrando con il loro codice.\n",
    "\n",
    "Nel 2009 nasce StackExchange, un network di forum Q&A sullo stampo di StackOverflow riunendo sotto un'unica compagnia padre l'intero network. \n",
    "\n",
    "Frutto di questa centralizzazione sono le API che andremo a usare per questo tutorial, noi specificheremo sempre come `site` l'identificativo di StackOverflow ma le medesime richieste sono utilizzabili identicamente per qualunque altro forum appartenente al network \n",
    "\n",
    "Questo tutorial è diviso nelle seguenti sezioni:\n",
    "- [una prima richiesta](#La-prima-richiesta), per riuscire ad approcciarci alle API nel modo più diretto possibile\n",
    "- [come ottenere un token di autenticazione](#Autenticazione), per espandere la nostra quota giornaliera di richieste\n",
    "- [come ottenere un token di autorizzazione](#Autorizzazione), per sbloccare tutte le API\n",
    "- [un uso dei filters](#I-Filters), per ottimizzare la banda passante\n",
    "- [come ottenere i dati](#Data-retrieval) che andremo ad analizzare\n",
    "- [analisi dei dati](#Analisi-dei-dati)\n",
    "- [una piccola introduzione sulla libreria StackAPI](#Il-wrapper), che fa da wrapper python per le API\n",
    "- [alcune conclusioni](#Conclusioni)"
   ]
  },
  {
   "cell_type": "markdown",
   "metadata": {},
   "source": [
    "## La prima richiesta\n",
    "\n",
    "Come accade molto spesso nelle API pubbliche di grandi social media, StackExchange permette di interfacciarsi con il proprio db interno senza possedere alcuna forma di autenticazione, seppure in forma limitata. Approfittiamone dunque per mettere fin da subito mano su queste API e facciamo una semplicissima richiesta API che restituirà alcune informazioni sul sito di StackOverflow, come ad esempio il numero di totale di domande effettuate sul sito o la versione delle API in uso."
   ]
  },
  {
   "cell_type": "markdown",
   "metadata": {},
   "source": [
    "Per poterci aiutare a visualizzare le risposte JSON attraverso la shell del notebook definiamo una funzione ausiliaria di formattazione"
   ]
  },
  {
   "cell_type": "code",
   "execution_count": 17,
   "metadata": {},
   "outputs": [],
   "source": [
    "import json\n",
    "\n",
    "def get_pretty_json_string(value_dict):\n",
    "    return json.dumps(value_dict, indent=4, sort_keys=True, ensure_ascii=False)"
   ]
  },
  {
   "cell_type": "markdown",
   "metadata": {},
   "source": [
    "Dato che la totalità delle richieste presenterà un base url comune, al fine anche di rendere facilmente aggiornabile il notebook, definiamo una variabile `base_url` che andremo poi a concatenare con gli endpoint delle specifiche richieste che andremo a fare\n",
    "\n",
    "Useremo inoltre un dizionario di parametri che poi la libreria si occuperà di convertire in query string da appendere al nostro url"
   ]
  },
  {
   "cell_type": "code",
   "execution_count": 18,
   "metadata": {},
   "outputs": [],
   "source": [
    "import requests\n",
    "\n",
    "base_url = \"https://api.stackexchange.com/2.3/\"\n",
    "\n",
    "params = {\n",
    "    'site': \"stackoverflow\"\n",
    "}\n"
   ]
  },
  {
   "cell_type": "code",
   "execution_count": 19,
   "metadata": {},
   "outputs": [
    {
     "name": "stdout",
     "output_type": "stream",
     "text": [
      "Status code della risposta: 200\n",
      "Corpo della risposta:\n",
      "{\n",
      "    \"has_more\": false,\n",
      "    \"items\": [\n",
      "        {\n",
      "            \"answers_per_minute\": 4.55,\n",
      "            \"api_revision\": \"2022.11.28.19433\",\n",
      "            \"badges_per_minute\": 6.24,\n",
      "            \"new_active_users\": 11,\n",
      "            \"questions_per_minute\": 3.09,\n",
      "            \"total_accepted\": 11853295,\n",
      "            \"total_answers\": 34318104,\n",
      "            \"total_badges\": 47014937,\n",
      "            \"total_comments\": 111094304,\n",
      "            \"total_questions\": 23259288,\n",
      "            \"total_unanswered\": 7111248,\n",
      "            \"total_users\": 19269513,\n",
      "            \"total_votes\": 194883894\n",
      "        }\n",
      "    ],\n",
      "    \"quota_max\": 300,\n",
      "    \"quota_remaining\": 281\n",
      "}\n"
     ]
    }
   ],
   "source": [
    "method = \"info\"\n",
    "\n",
    "response = requests.request(\"GET\", base_url + method, params=params)\n",
    "\n",
    "print(\"Status code della risposta:\", response.status_code)\n",
    "print(\"Corpo della risposta:\\n\" + get_pretty_json_string(response.json()))\n"
   ]
  },
  {
   "cell_type": "markdown",
   "metadata": {
    "tags": []
   },
   "source": [
    "Ci troviamo davanti alla risposta in JSON che il webservice ci ha fornito in risposta alla nostra richiesta HTTP. Il formato JSON assomiglia per molti aspetti ai dizionari python, in cui si hanno coppie di chiave-valore. Data la possibilità di nidificare altri dizionari in qualità di valori di alcune chiavi, il JSON si presenta come una struttura a livelli, in particolare il primo livello contiene metadati relativi alla richiesta fatta al web service  (`has_more`, `quota_max`, `quota_remaining`) mentre una di queste key (`items`) al livello di \"metadati\" contiene i veri e propri dati richiesti dall'applicazione.\n",
    "\n",
    "Considerando che i metadati ci accompagneranno per l'interezza di questo tutorial, vale la pena soffermarsi un attimo per comprendere bene il significato di ciascuno di essi.\n",
    "- `has_more`: nell'eventualità in cui venisse fatta una richiesta su tabella che prevede paging questo valore ci permette di capire se la presente è l'ultima pagina o se ve ne sono altre successivamente\n",
    "- `quota_max`: è il numero massimo di richieste effettuabili al giorno dallo stesso indirizzo IP\n",
    "- `quota_remaining`: è il numero rimanente di richieste effettuabili in questa giornata dall'inidirizzo IP che ha fatto la richiesta\n",
    "\n",
    "Tutto sembra essere in ordine, ma che succede se proviamo ad effettuare un richiesta diversa?\n",
    "\n",
    "Proviamo ad esempio a richiedere lo stream dei nuovi utenti e dei nuovi contenuti che vengono generati sul sito (attraverso l'API `/events`)"
   ]
  },
  {
   "cell_type": "code",
   "execution_count": 20,
   "metadata": {},
   "outputs": [
    {
     "name": "stdout",
     "output_type": "stream",
     "text": [
      "Status code della risposta: 400\n",
      "Corpo della risposta:\n",
      "{\n",
      "    \"error_id\": 401,\n",
      "    \"error_message\": \"This method requires an access_token\",\n",
      "    \"error_name\": \"access_token_required\"\n",
      "}\n"
     ]
    }
   ],
   "source": [
    "method = \"events\"\n",
    "\n",
    "response = requests.request(\"GET\", base_url + method, params=params)\n",
    "\n",
    "print(\"Status code della risposta:\", response.status_code)\n",
    "print(\"Corpo della risposta:\\n\" + get_pretty_json_string(response.json()))"
   ]
  },
  {
   "cell_type": "markdown",
   "metadata": {},
   "source": [
    "Come risulta immediatamente chiaro, le API anonime presentano numerose limitazioni, non solo determinate funzionalità sono completamente bloccate ma in ogni caso si è comunque fortemente limitati a 300 richieste giornaliere, che anche per un use-case giocattolo come il nostro risultano restrittive.\n",
    "\n",
    "Vediamo allora come possiamo effettuare richieste autenticate"
   ]
  },
  {
   "attachments": {},
   "cell_type": "markdown",
   "metadata": {},
   "source": [
    "## Autenticazione\n",
    "\n",
    "\n",
    "Prima di iniziare, ogni applicazione che voglia effettuare richieste autenticate ai webservices forniti da StackExchange deve prima munirsi di un un token di autenticazione, vediamo come fare.\n",
    "\n",
    "Bisognerà innanzitutto recarsi sulla pagina di registrazione delle [Stack Apps](https://stackapps.com/apps/oauth/register), effettuando il login se si è gia registrati ad uno dei forum associati a StackExchange o creando un nuovo account in caso contrario.\n",
    "\n",
    "A questo punto viene richiesto di inserire alcuni dati riguardanti la Stack App, sentitevi liberi di popolare i campi come preferite.\n",
    "\n",
    "Se non si possiede un OAuth domain è consigliabile inserire `stackexchange.com`\n",
    "\n",
    "**E' importante selezionare `Enable Client Side OAuth Flow`**\n",
    "\n",
    "![StackApps.jpg](/Users/lucagreco/Desktop/Development/SMM/tutorial/StackApps.jpg)"
   ]
  },
  {
   "attachments": {},
   "cell_type": "markdown",
   "metadata": {},
   "source": [
    "Una volta completata la registrazione vi verrano forniti una serie di parametri più o meno importanti che è bene appuntarvi, in particolare:\n",
    "- Client ID\n",
    "- Client Secret\n",
    "- Key\n",
    "\n",
    "![StackAppsSecrets.jpg](/Users/lucagreco/Desktop/Development/SMM/tutorial/StackAppsSecrets.jpg)\n",
    "\n",
    "Questi verranno poi utilizzati  all'interno di tutte le nostre chiamate e associeranno quest'ultime con l'applicazione che abbiamo appena registrato su StackApps\n",
    "\n",
    "Iniziamo dunque aggiungendo alle nostre richieste la key appena ottenuta\n",
    "\n",
    "Riproviamo allora con la chiamata `/info`"
   ]
  },
  {
   "cell_type": "code",
   "execution_count": 21,
   "metadata": {
    "scrolled": false
   },
   "outputs": [
    {
     "name": "stdout",
     "output_type": "stream",
     "text": [
      "Status code della risposta: 200\n",
      "Corpo della risposta:\n",
      "{\n",
      "    \"has_more\": false,\n",
      "    \"items\": [\n",
      "        {\n",
      "            \"answers_per_minute\": 4.55,\n",
      "            \"api_revision\": \"2022.11.28.19433\",\n",
      "            \"badges_per_minute\": 6.24,\n",
      "            \"new_active_users\": 11,\n",
      "            \"questions_per_minute\": 3.09,\n",
      "            \"total_accepted\": 11853295,\n",
      "            \"total_answers\": 34318104,\n",
      "            \"total_badges\": 47014937,\n",
      "            \"total_comments\": 111094304,\n",
      "            \"total_questions\": 23259288,\n",
      "            \"total_unanswered\": 7111248,\n",
      "            \"total_users\": 19269513,\n",
      "            \"total_votes\": 194883894\n",
      "        }\n",
      "    ],\n",
      "    \"quota_max\": 10000,\n",
      "    \"quota_remaining\": 9980\n",
      "}\n"
     ]
    }
   ],
   "source": [
    "method = \"info\"\n",
    "\n",
    "params['key'] = \"3gYghtUtvjTT30rSGiuMyg((\" # cambiare chiave con quella fornita da stackapps per la vostra applicazione\n",
    "\n",
    "response = requests.request(\"GET\", base_url + method, params=params)\n",
    "\n",
    "print(\"Status code della risposta:\", response.status_code)\n",
    "print(\"Corpo della risposta:\\n\" + get_pretty_json_string(response.json()))"
   ]
  },
  {
   "cell_type": "markdown",
   "metadata": {},
   "source": [
    "Bene, siamo riusciti con successo ad usare la chiave, lo si capisce semplicemente andando a guardare il campo `quota_max` che adesso si trova ad un comodo 10000\n",
    "\n",
    "E' arrivato dunque il momento di riprovare con la richiesta sullo stream dei nuovi contenuti del forum (`/events`)"
   ]
  },
  {
   "cell_type": "code",
   "execution_count": 22,
   "metadata": {},
   "outputs": [
    {
     "name": "stdout",
     "output_type": "stream",
     "text": [
      "Status code della risposta: 400\n",
      "Corpo della risposta:\n",
      "{\n",
      "    \"error_id\": 401,\n",
      "    \"error_message\": \"This method requires an access_token\",\n",
      "    \"error_name\": \"access_token_required\"\n",
      "}\n"
     ]
    }
   ],
   "source": [
    "method = \"events\"\n",
    "\n",
    "response = requests.request(\"GET\", base_url + method, params=params)\n",
    "\n",
    "print(\"Status code della risposta:\", response.status_code)\n",
    "print(\"Corpo della risposta:\\n\" + get_pretty_json_string(response.json()))"
   ]
  },
  {
   "cell_type": "markdown",
   "metadata": {},
   "source": [
    "I più attenti avranno già compreso il problema palesatosi, la key fornitaci su StackApps è solo un token di _autenticazione_ ma per effettuare determinate richieste dobbiamo avere un token di _autorizzazione_ <sup>[ref.](https://stackoverflow.com/a/6556548/10210279)</sup>, vediamo come ottenerlo.\n",
    "\n",
    "## Autorizzazione\n",
    "\n",
    "Innanzitutto si dovrà visitare un url particolare:\n",
    "\n",
    "<span style=\"font-size: .7rem\">`https://stackoverflow.com/oauth/dialog?client_id=`**`[client_id]`**`&redirect_uri=https://stackexchange.com/oauth/login_success&scope=read_inbox,no_expiry,private_info`</span>\n",
    "\n",
    "Dove **`[client_id]`** va sostituito con il valore ottenuto durante la registrazione della stackApp.\n",
    "\n",
    "Qua, dopo aver eseguito l'accesso, vi verrà richiesto di accettare che l'app acceda ad alcuni dati, accettate.\n",
    "\n",
    "![Accept.png](/Users/lucagreco/Desktop/Development/SMM/tutorial/Accept.png)\n",
    "\n",
    "A questo punto verrete portati in una pagina di stackexchange dal titolo \"Authorizing Application\"\n",
    "\n",
    "L'access_token è parte dell'url della pagina in cui vi trovate:\n",
    "\n",
    "`https://stackexchange.com/oauth/login_success#access_token=[token]`\n",
    "\n",
    "![](/Users/lucagreco/Desktop/Development/SMM/tutorial/TokenURL.png)\n",
    "\n",
    "Proviamo ad utilizzarlo dunque, ancora una volta con la query `/events`"
   ]
  },
  {
   "cell_type": "code",
   "execution_count": 23,
   "metadata": {
    "scrolled": true
   },
   "outputs": [
    {
     "name": "stdout",
     "output_type": "stream",
     "text": [
      "Status code della risposta: 400\n",
      "Corpo della risposta:\n",
      "{\n",
      "    \"error_id\": 403,\n",
      "    \"error_message\": \"`key` is not valid for passed `access_token`, token not found (expired).\",\n",
      "    \"error_name\": \"access_denied\"\n",
      "}\n"
     ]
    }
   ],
   "source": [
    "params['access_token'] = \"xBLAappRlR0uHjjy0J(J*A))\" # cambiare access token con quello ottenuto al passo precedente\n",
    "\n",
    "method = \"events\"\n",
    "\n",
    "response = requests.request(\"GET\", base_url + method, params = params | {'pagesize': 5})\n",
    "\n",
    "print(\"Status code della risposta:\", response.status_code)\n",
    "print(\"Corpo della risposta:\\n\" + get_pretty_json_string(response.json()))"
   ]
  },
  {
   "cell_type": "markdown",
   "metadata": {},
   "source": [
    "🥳\n",
    "\n",
    "Siamo riusciti a effettuare la nostra prima richiesta autorizzata!\n",
    "\n",
    "Adesso abbiamo tutti gli strumenti necessari per effettuare la maggior parte delle richieste API\n",
    "\n",
    "Come parte finale di questo tutorial cerchermo di recuperare le domande con il punteggio più alto, visualizzeremo i dati e cerchermo di analizzarli.\n",
    "\n",
    "## I Filters\n",
    "\n",
    "Prima di iniziare vorrei aprire una piccola parentesi su una funzionalità interessante di queste API: i [`filters`](https://api.stackexchange.com/docs/filters). `filter` è uno dei parametri popolabili delle API di StackExchange, permette di specificare un determinato filter (gia configurato da utilizzare) il quale permetterà di aggiungere o omettere qualunque valore presente all'interno delle risposte alle nostre richieste API, cosi da poter ritornare esattamente ciò di cui l'applicazione necessità risparmiando banda passante. Esistono filtri già preconfigurati ma è anche possibile crearne di nuovi con delle richieste apposite\n",
    "\n",
    "Adesso utilizzeremo un filter gia preconfigurato, il filtro `total`, il quale ci permetterà di aggiungere il campo total alla `response wrapper` per ottenere il numero di righe totali della query.\n",
    "\n",
    "Un parte essenziale del processo di approccio alla analisi dei dati consiste sicuramente nell'apprezzarne la mole, propongo quindi di seguito una piccola richiesta utilizzante il filtro `total` per capire quante nuove domande siano state aperte nell'ultima settimana"
   ]
  },
  {
   "cell_type": "code",
   "execution_count": 24,
   "metadata": {},
   "outputs": [
    {
     "name": "stdout",
     "output_type": "stream",
     "text": [
      "Status code della risposta: 400\n",
      "Corpo della risposta:\n",
      "{\n",
      "    \"error_id\": 403,\n",
      "    \"error_message\": \"`key` is not valid for passed `access_token`, token not found (expired).\",\n",
      "    \"error_name\": \"access_denied\"\n",
      "}\n"
     ]
    }
   ],
   "source": [
    "from datetime import datetime, timedelta\n",
    "\n",
    "method = \"questions\"\n",
    "\n",
    "now = datetime.now()\n",
    "starting_date = now - timedelta(days=7)\n",
    "\n",
    "question_params = params | {\n",
    "        'order': \"desc\",\n",
    "        'sort': \"votes\",\n",
    "        'pagesize': 100,\n",
    "        'fromdate': int(starting_date.timestamp()),\n",
    "        'todate': int(now.timestamp()),\n",
    "        'filter': \"total\"\n",
    "    }\n",
    "\n",
    "\n",
    "\n",
    "response = requests.request(\"GET\", base_url + method, params=question_params)\n",
    "\n",
    "print(\"Status code della risposta:\", response.status_code)\n",
    "print(\"Corpo della risposta:\\n\" + get_pretty_json_string(response.json()))"
   ]
  },
  {
   "cell_type": "markdown",
   "metadata": {},
   "source": [
    "Com'era prevedibile, anche solo le domande effettuate in una sola settimana sono dell'ordine delle migliaia e decisamente fuori dalla portata del nostro piccolo tutorial, inoltre con ogni probabilità la maggior parte di questi dati saranno garbage, o perchè duplicati o perchè domande banali. \n",
    "\n",
    "Possiamo tuttavia pensare di sfruttare questi filters creando la risposta tipo ideale per la nostra applicazione, vediamo come fare:"
   ]
  },
  {
   "cell_type": "code",
   "execution_count": 25,
   "metadata": {},
   "outputs": [
    {
     "name": "stdout",
     "output_type": "stream",
     "text": [
      "Status code della risposta: 200\n",
      "Corpo della risposta:\n",
      "{\n",
      "    \"has_more\": false,\n",
      "    \"items\": [\n",
      "        {\n",
      "            \"filter\": \"!)tk)zfkEExDFd8jNCo75q7L\",\n",
      "            \"filter_type\": \"safe\",\n",
      "            \"included_fields\": [\n",
      "                \".backoff\",\n",
      "                \".error_id\",\n",
      "                \".error_message\",\n",
      "                \".error_name\",\n",
      "                \".has_more\",\n",
      "                \".items\",\n",
      "                \".quota_max\",\n",
      "                \".quota_remaining\",\n",
      "                \"question.creation_date\",\n",
      "                \"question.link\",\n",
      "                \"question.owner\",\n",
      "                \"question.question_id\",\n",
      "                \"question.score\",\n",
      "                \"question.tags\",\n",
      "                \"shallow_user.display_name\",\n",
      "                \"shallow_user.link\",\n",
      "                \"shallow_user.reputation\",\n",
      "                \"shallow_user.user_id\"\n",
      "            ]\n",
      "        }\n",
      "    ],\n",
      "    \"quota_max\": 300,\n",
      "    \"quota_remaining\": 277\n",
      "}\n"
     ]
    }
   ],
   "source": [
    "method = \"filters/create\"\n",
    "\n",
    "wrapper =  \".backoff;.error_id;.error_message;.error_name;.has_more;.items;.quota_max;.quota_remaining;\";\n",
    "question = \"question.tags;question.owner;question.score;question.creation_date;question.link;question.question_id;\"\n",
    "owner = \"shallow_user.user_id;shallow_user.display_name;shallow_user.reputation;shallow_user.link\"\n",
    "\n",
    "\n",
    "filter_params = {\n",
    "        'base': \"none\",\n",
    "        'include': wrapper + question + owner\n",
    "    }\n",
    "\n",
    "response = requests.request(\"GET\", base_url + method, params=filter_params)\n",
    "\n",
    "custom_filter = response.json()['items'][0]['filter']\n",
    "\n",
    "print(\"Status code della risposta:\", response.status_code)\n",
    "print(\"Corpo della risposta:\\n\" + get_pretty_json_string(response.json()))"
   ]
  },
  {
   "cell_type": "markdown",
   "metadata": {},
   "source": [
    "Come potete vedere i campi inclusi all'interno del nostro filtro ricadono in tre categorie:\n",
    "- `wrapper`\n",
    "- `question`\n",
    "- `owner`\n",
    "\n",
    "Per il primo ci siamo limitati a mantenere i campi che di default sarebbero stati inclusi, questi risultano di fatto essenziali per poter diagnosticare eventuali errori all'interno delle nostre chiamate ed anche per poter tenere sotto controllo il nostro usage giornaliero. Importante aggiunta risulta il campo di backoff, che era sempre presente anche prima ma che non veniva popolato dal webservice; il campo di backoff è cruciale per un buon utlizzo delle api, le quali nell'eventualità in cui si effettuino troppe chiamate consecutivamente popoleranno il campo suggerendo al client di attendere alcuni secondi prima di effettuare la richiesta succesiva.\n",
    "\n",
    "Per quanto riguarda i campi delle domande abbiamo deciso di tenere alcuni dati cruciali relativi alle stesse che verranno succesivamente analizzate nel dettaglio, abbiamo inoltre aggiunto alcune informazioni sull'utente che ha creato la domanda."
   ]
  },
  {
   "cell_type": "markdown",
   "metadata": {},
   "source": [
    "## Data retrieval\n",
    "\n",
    "A questo punto ci approcciamo alla fase di acquisizione dei dati, per mostrare la potenza dei dati offerti, si è deciso di analizzare le 1000 domande con score più alto e cercare di comprenderne la natura statistica ed eventuali relazioni con altre parti del sito. Procediamo dunque alla scrittura della richiesta API\n",
    "\n",
    "Come si può notare ogni singola richiesta è limitata ad appena 100 righe (domande) di risposta ma chiaramente sarebbe più proficuo poter ottenere più dati; ovviamente ripetere la medesima richiesta continuerà a ritornare sempre le stesse 100 righe, non ad esempio la 101esima. \n",
    "\n",
    "Per ovviare a questo problema le API di StackExchange mettono a disposizione un sistema di paging, in cui la totalità dei dati viene raccchiusa all'interno di pagine aventi un numero di righe pari a `pagesize` ed è possibile richiedere un qualunque page number utilizzando l'apposito campo dell'API `page`, dunque dopo aver letto la prima pagina, potremmo richiedere la seconda, la terza e cosi via.\n",
    "\n",
    "A questo punto si palesa il problema di capire se il db contenga una pagina successiva o se siano effettivamente finite, per fare ciò sfrutteremo il metadato `has_more` cui avevamo accennato precedentemente per iterare la medesima richiesta fino all'esaurimento dei dati recuperabili"
   ]
  },
  {
   "cell_type": "code",
   "execution_count": 26,
   "metadata": {},
   "outputs": [
    {
     "ename": "KeyError",
     "evalue": "'items'",
     "output_type": "error",
     "traceback": [
      "\u001b[0;31m---------------------------------------------------------------------------\u001b[0m",
      "\u001b[0;31mKeyError\u001b[0m                                  Traceback (most recent call last)",
      "Cell \u001b[0;32mIn [26], line 19\u001b[0m\n\u001b[1;32m     17\u001b[0m question_params[\u001b[39m'\u001b[39m\u001b[39mpage\u001b[39m\u001b[39m'\u001b[39m] \u001b[39m=\u001b[39m page\n\u001b[1;32m     18\u001b[0m response \u001b[39m=\u001b[39m requests\u001b[39m.\u001b[39mrequest(\u001b[39m\"\u001b[39m\u001b[39mGET\u001b[39m\u001b[39m\"\u001b[39m, base_url \u001b[39m+\u001b[39m method, params\u001b[39m=\u001b[39mquestion_params)\n\u001b[0;32m---> 19\u001b[0m all_questions\u001b[39m.\u001b[39mextend(response\u001b[39m.\u001b[39mjson()[\u001b[39m'\u001b[39m\u001b[39mitems\u001b[39m\u001b[39m'\u001b[39m])\n\u001b[1;32m     20\u001b[0m \u001b[39mif\u001b[39;00m \u001b[39m\"\u001b[39m\u001b[39mfalse\u001b[39m\u001b[39m\"\u001b[39m \u001b[39m==\u001b[39m \u001b[39mstr\u001b[39m(response\u001b[39m.\u001b[39mjson()[\u001b[39m'\u001b[39m\u001b[39mhas_more\u001b[39m\u001b[39m'\u001b[39m])\u001b[39m.\u001b[39mlower():\n\u001b[1;32m     21\u001b[0m     \u001b[39mbreak\u001b[39;00m\n",
      "\u001b[0;31mKeyError\u001b[0m: 'items'"
     ]
    }
   ],
   "source": [
    "import time\n",
    "\n",
    "method = \"questions\"\n",
    "\n",
    "num_pages = 100\n",
    "\n",
    "question_params = params | {\n",
    "        'order': \"desc\",\n",
    "        'sort': \"votes\",\n",
    "        'pagesize': 100,\n",
    "        'filter': custom_filter\n",
    "    }\n",
    "\n",
    "all_questions = []\n",
    "\n",
    "for page in range (1, num_pages):\n",
    "    question_params['page'] = page\n",
    "    response = requests.request(\"GET\", base_url + method, params=question_params)\n",
    "    all_questions.extend(response.json()['items'])\n",
    "    if \"false\" == str(response.json()['has_more']).lower():\n",
    "        break\n",
    "    if 'backoff' in response.json():\n",
    "        time.sleep(response.json()['backoff'])\n"
   ]
  },
  {
   "cell_type": "markdown",
   "metadata": {},
   "source": [
    "Per evitare di dover aspettare la lenta risposta dei server si consiglia di salvare il dizionario su un file di testo e successivamente ricaricarlo piuttosto che ottenere continuamente dati direttamente dalle API "
   ]
  },
  {
   "cell_type": "code",
   "execution_count": null,
   "metadata": {},
   "outputs": [],
   "source": [
    "#load json file\n",
    "import json\n",
    "\n",
    "# if json file exists, load it\n",
    "try:\n",
    "    # open json file\n",
    "    with open('questions.json') as json_file:\n",
    "        data = json.load(json_file)\n",
    "    \n",
    "except FileNotFoundError:\n",
    "    # write all_question to json file\n",
    "    with open('questions.json', 'w') as outfile:\n",
    "        json.dump(all_questions, outfile)\n",
    "        data = all_questions\n"
   ]
  },
  {
   "cell_type": "markdown",
   "metadata": {},
   "source": [
    "## Analisi dei dati\n",
    "\n",
    "Ora che abbiamo tutti i dati a nostra disposizione possiamo iniziare ad analizzarli. \n",
    "\n",
    "Prima di tutto definiamo alcune funzioni ausiliari di statistica per ripulire i dati, definiamo quindi una semplice funzione per rimuovere gli outliers usando i quartili. "
   ]
  },
  {
   "cell_type": "code",
   "execution_count": null,
   "metadata": {},
   "outputs": [],
   "source": [
    "import numpy as np\n",
    "\n",
    "\n",
    "def boundaries(values):\n",
    "    #calculate quartiles\n",
    "    q1 = np.percentile(values, 25)\n",
    "    q3 = np.percentile(values, 75)\n",
    "    iqr = q3 - q1\n",
    "\n",
    "    #ruturn boundaries\n",
    "    return q1 - iqr, q3 + iqr\n",
    "\n",
    "def lower_bound(values):\n",
    "    return boundaries(values)[0]\n",
    "\n",
    "def upper_bound(values):\n",
    "    return boundaries(values)[1]\n",
    "\n",
    "def rmoutliers(*args):\n",
    "    #calculate boundaries\n",
    "    arrays = list(args)\n",
    "    for arr in arrays:\n",
    "        filter_matrix = (arr < upper_bound(arr)) & (arr > lower_bound(arr))\n",
    "        for i, _ in enumerate(arrays):\n",
    "            arrays[i] = arrays[i][filter_matrix]\n",
    "    return arrays"
   ]
  },
  {
   "cell_type": "markdown",
   "metadata": {},
   "source": [
    "Iniziamo visualizzando alcuni dati banali, come la distribuzione degli score o la correlazione fra lo score dei post e la reputazione degli utenti.\n",
    "\n",
    "Per la prima ci aspettiamo di guardare una Gaussiana o una Poissoniana mentre per il secondo una evidente correlazione lineare. \n",
    "\n",
    "N.B: rimuoveremo gli outlier dagli score"
   ]
  },
  {
   "cell_type": "code",
   "execution_count": null,
   "metadata": {},
   "outputs": [
    {
     "data": {
      "image/png": "[encoded data removed]",
      "text/plain": [
       "<Figure size 1500x500 with 2 Axes>"
      ]
     },
     "metadata": {},
     "output_type": "display_data"
    }
   ],
   "source": [
    "import matplotlib.pyplot as plt\n",
    "from datetime import datetime\n",
    "\n",
    "num_pages = 100\n",
    "\n",
    "#split plots\n",
    "fig, axs = plt.subplot_mosaic(\"AB\", figsize=(15, 5))\n",
    "\n",
    "scores = np.fromiter(map(lambda x: x['score'], data), dtype=int)\n",
    "#Remove outliers\n",
    "scores = rmoutliers(scores)[0]\n",
    "\n",
    "#plot 1\n",
    "axs['A'].hist(scores, bins=100)\n",
    "axs['A'].set_title('Questions\\' scores distribution')\n",
    "axs['A'].set_xlabel('Score')\n",
    "axs['A'].set_ylabel('Frequency')\n",
    "\n",
    "compound = np.fromiter(\n",
    "    ([(x['owner']['reputation'], x['score']) for x in data if 'owner' in x and 'reputation' in x['owner'] ]),\n",
    "    dtype=[('reputation', int), ('score', int)]\n",
    "    )\n",
    "\n",
    "\n",
    "reputation, question_score = compound['reputation'], compound['score']\n",
    "\n",
    "axs['B'].scatter(reputation, question_score, s=3)\n",
    "axs['B'].set_title('Creator reputation vs score')\n",
    "axs['B'].set_xlabel('Creator reputation')\n",
    "axs['B'].set_ylabel('Score')\n",
    "#axs['B'].set_yscale('log')\n",
    "#axs['B'].set_ylim(0, 10000)\n",
    "\n",
    "plt.tight_layout()\n",
    "plt.show()"
   ]
  },
  {
   "cell_type": "markdown",
   "metadata": {},
   "source": [
    "Vediamo adesso di estrarre alcuni dati cruciali come ad esempio i tag più frequenti, spesso utilizzati come metrica di popolarità fra i linguaggi di programmazione"
   ]
  },
  {
   "cell_type": "code",
   "execution_count": null,
   "metadata": {},
   "outputs": [
    {
     "data": {
      "image/png": "[encoded data removed]",
      "text/plain": [
       "<Figure size 1500x500 with 1 Axes>"
      ]
     },
     "metadata": {},
     "output_type": "display_data"
    }
   ],
   "source": [
    "fig, axs = plt.subplot_mosaic(\"C\", figsize=(15, 5))\n",
    "\n",
    "#get tags counting\n",
    "repeated_tags = np.fromiter( ([tag for x in data for tag in x['tags']] ), dtype = object)\n",
    "\n",
    "unfiltered_tags, tags_count =  np.unique(repeated_tags, return_counts=True)\n",
    "\n",
    "filter_matrix = tags_count > num_pages\n",
    "tags, tags_count = unfiltered_tags[filter_matrix], tags_count[filter_matrix]\n",
    "sorted_indexes = np.argsort(tags_count)[::-1]\n",
    "tags_count, tags = tags_count[sorted_indexes], tags[sorted_indexes]\n",
    "\n",
    "#plot tags distribution\n",
    "axs['C'].bar(tags, tags_count)\n",
    "axs['C'].set_title('Tags distribution')\n",
    "axs['C'].set_xlabel('Tag')\n",
    "axs['C'].set_ylabel('Frequency')\n",
    "axs['C'].tick_params(axis='x', labelrotation=90, labelsize=10)\n",
    "\n",
    "plt.tight_layout()\n",
    "plt.show()"
   ]
  },
  {
   "cell_type": "markdown",
   "metadata": {},
   "source": [
    "Come ci aspettavamo i linguaggi di programmazione più popolari sono anche i più frequenti, notabile la presenza di git così in alto ma comprensibile considerando l'onnipresenza del tool negli ambienti di programmazione. \n",
    "\n",
    "Infine, cerchiamo di capire se esistono finestre temporali ad alto traffico; sarebbe verosimile aspettarsi un declino durante il periodo natalizio e quello estivo, plottiamo quindi la quantità di domande richieste durante l'anno usando bin bi-settimanali"
   ]
  },
  {
   "cell_type": "code",
   "execution_count": null,
   "metadata": {},
   "outputs": [
    {
     "data": {
      "image/png": "[encoded data removed]",
      "text/plain": [
       "<Figure size 1500x500 with 1 Axes>"
      ]
     },
     "metadata": {},
     "output_type": "display_data"
    }
   ],
   "source": [
    "\n",
    "fig, axs = plt.subplot_mosaic(\"D\", figsize=(15, 5))\n",
    "\n",
    "dates = np.fromiter(map(lambda x: datetime.fromtimestamp(x['creation_date']).timetuple().tm_yday, data), dtype=int)\n",
    "#plot dates distribution\n",
    "axs['D'].hist(dates, bins=365//2)\n",
    "axs['D'].set_title('Questions\\' creation dates distribution')\n",
    "axs['D'].set_xlabel('Day of the year')\n",
    "axs['D'].set_ylabel('Frequency')        \n",
    "\n",
    "plt.tight_layout()\n",
    "plt.show()"
   ]
  },
  {
   "cell_type": "markdown",
   "metadata": {},
   "source": [
    "Effettivamente non vediamo alcun pattern particolarmente rilevante, forse un piccolo picco intorno ai primi di settembre, forse compatibile con un ipotetico ritorno dalla pausa estiva"
   ]
  },
  {
   "cell_type": "markdown",
   "metadata": {},
   "source": [
    "## Il wrapper \n",
    "\n",
    "Prima di concludere mi sembra doveroso citare un wrapper python per le API di StackExchange: [StackAPI](https://stackapi.readthedocs.io/en/latest/user/intro.html).\n",
    "\n",
    "\n",
    "Iniziamo installando il pacchetto:\n",
    "\n",
    "`$ pip install stackapi`\n",
    "\n",
    "Iniziamo ripetendo le prime richieste di questo tutorial\n",
    "\n"
   ]
  },
  {
   "cell_type": "code",
   "execution_count": null,
   "metadata": {},
   "outputs": [
    {
     "name": "stdout",
     "output_type": "stream",
     "text": [
      "{\n",
      "    \"backoff\": 0,\n",
      "    \"has_more\": false,\n",
      "    \"items\": [\n",
      "        {\n",
      "            \"answers_per_minute\": 4.55,\n",
      "            \"api_revision\": \"2022.11.28.19433\",\n",
      "            \"badges_per_minute\": 6.24,\n",
      "            \"new_active_users\": 11,\n",
      "            \"questions_per_minute\": 3.09,\n",
      "            \"total_accepted\": 11853243,\n",
      "            \"total_answers\": 34317941,\n",
      "            \"total_badges\": 47014582,\n",
      "            \"total_comments\": 111093675,\n",
      "            \"total_questions\": 23259110,\n",
      "            \"total_unanswered\": 7111153,\n",
      "            \"total_users\": 19269249,\n",
      "            \"total_votes\": 194882456\n",
      "        }\n",
      "    ],\n",
      "    \"page\": 1,\n",
      "    \"quota_max\": 10000,\n",
      "    \"quota_remaining\": 9898,\n",
      "    \"total\": 0\n",
      "}\n"
     ]
    }
   ],
   "source": [
    "from stackapi import StackAPI\n",
    "\n",
    "SITE = StackAPI('stackoverflow', key = params['key'], access_token=params['access_token'])\n",
    "\n",
    "info = SITE.fetch('info')\n",
    "\n",
    "print(get_pretty_json_string(info))"
   ]
  },
  {
   "cell_type": "markdown",
   "metadata": {},
   "source": [
    "Come si può vedere il wrapper presenta un'interfaccia più semplice e intuitiva da utilizzare, oltre a numerose altre funzionalità, come una gestione ad oggetti degli errori o l'adattamento automatico ai tempi di backoff"
   ]
  },
  {
   "cell_type": "markdown",
   "metadata": {},
   "source": [
    "## Conclusioni\n",
    "\n",
    "Le API di StackExchange sono sicuramente fra le API meglio documentate che esistano, probabilmente l'unico difetto reale dell'intero sistema risiede nella mole limitata di dati ottenibile in breve tempo (a causa dei tempi di backoff) ma a questo si può porre rimedio grazie al [data explorer](https://data.stackexchange.com) fornito dalla stessa società. \n",
    "\n",
    "Vagamente laborioso anche l'ottenimento  dell'access token ma che comunque resta in linea con altri metodi di autenticazione di altre grandi società.\n",
    "\n",
    "In generale, il database di domande e risposte di StackOverflow è una delle più grandi miniere di conoscenza per qualunque argomento concerne la programmazione e di certo una delle più grandi conquiste di internet."
   ]
  }
 ],
 "metadata": {
  "kernelspec": {
   "display_name": "Python 3 (ipykernel)",
   "language": "python",
   "name": "python3"
  },
  "language_info": {
   "codemirror_mode": {
    "name": "ipython",
    "version": 3
   },
   "file_extension": ".py",
   "mimetype": "text/x-python",
   "name": "python",
   "nbconvert_exporter": "python",
   "pygments_lexer": "ipython3",
   "version": "3.10.8"
  },
  "vscode": {
   "interpreter": {
    "hash": "b0fa6594d8f4cbf19f97940f81e996739fb7646882a419484c72d19e05852a7e"
   }
  }
 },
 "nbformat": 4,
 "nbformat_minor": 2
}
